{
 "cells": [
  {
   "cell_type": "code",
   "execution_count": 16,
   "id": "21b48a67-ad7b-4095-aeed-13d51adea36c",
   "metadata": {},
   "outputs": [],
   "source": [
    "import pandas as pd\n",
    "import numpy as np\n",
    "import pencilbox as pb\n",
    "from requests import get\n",
    "import requests"
   ]
  },
  {
   "cell_type": "code",
   "execution_count": 17,
   "id": "08bf43c4-b2cc-4dc1-8d12-35224d3a5315",
   "metadata": {},
   "outputs": [],
   "source": [
    "con_rs = pb.get_connection(\"[Warehouse] Redshift\")"
   ]
  },
  {
   "cell_type": "code",
   "execution_count": 24,
   "id": "aab33a99-4bdc-4166-89e7-48de1f5376a9",
   "metadata": {},
   "outputs": [],
   "source": [
    "sql = \"\"\"\n",
    "\n",
    "with RMNGC as ( \n",
    "    Select dim_customer_key,device_id from (\n",
    "                    Select \n",
    "                        dim_customer_key,\n",
    "                        device_id,\n",
    "                        city_name,\n",
    "                        delivered_cart_rank,\n",
    "                        cart_checkout_ts_ist,\n",
    "                        row_number() over (partition by dim_customer_key order by cart_checkout_ts_ist desc) as rk \n",
    "                    from \n",
    "                        dwh.fact_sales_order_details\n",
    "                    where \n",
    "                        cart_checkout_ts_ist::date  between '2022-03-01' and '2022-04-30'\n",
    "                        and delivered_cart_rank >= 2 )\n",
    "            where rk=1 \n",
    "            and device_id!='00000000-0000-0000-0000-000000000000'\n",
    "            and dim_customer_key not in ( Select dim_customer_key \n",
    "                                                from dwh.fact_sales_order_details \n",
    "                                                where cart_checkout_ts_ist::date  between '2022-03-01' and '2022-04-30'\n",
    "                                                and delivered_cart_rank = 1 )                             --subtracting NU base\n",
    "            and dim_customer_key not in ( Select dim_customer_key from (\n",
    "                                                                        Select  \n",
    "                                                                            customer_id as dim_customer_key,\n",
    "                                                                            priority_score,\n",
    "                                                                            row_number() over (partition by customer_id,priority_score order by updated_at desc) as rk  \n",
    "                                                                            from consumer.customer_priority_score_cut3) \n",
    "                                                                    where rk=1 and priority_score in (7,8)) --subtracting GC base\n",
    "\n",
    "\n",
    "\n",
    "),\n",
    "\n",
    "user_table as\n",
    "(Select dim_customer_key,min(cart_checkout_ts_ist) as fcheckout_dt\n",
    "from dwh.fact_sales_order_details\n",
    "where cart_checkout_ts_ist::date between '2022-03-01' and '2022-04-30'\n",
    "and device_id is not null\n",
    "group by 1),\n",
    "\n",
    "order_table as (\n",
    "Select \n",
    "dim_customer_key,\n",
    "total_selling_price,\n",
    "order_id,\n",
    "cart_checkout_ts_ist checkout_dt\n",
    "from dwh.fact_sales_order_details\n",
    "where cart_checkout_ts_ist::date between '2022-03-01' and '2022-04-30'\n",
    "and order_type in ('RetailForwardOrder', 'DropShippingForwardOrder')\n",
    "and order_current_status = 'DELIVERED'\n",
    "group by 1,2,3,4),\n",
    "\n",
    "pre_final as (\n",
    "Select \n",
    "nt.dim_customer_key,\n",
    "sum(ot.total_selling_price) as total_gmv,\n",
    "count(ot.total_selling_price) as total_orders\n",
    "from \n",
    "user_table nt \n",
    "left join order_table ot\n",
    "on nt.dim_customer_key=ot.dim_customer_key \n",
    "--and ot.checkout_dt::date between nt.fcheckout_dt::date and (nt.fcheckout_dt+7)::date\n",
    "group by 1\n",
    "),\n",
    "\n",
    "final as (\n",
    "select dim_customer_key\n",
    "from\n",
    "pre_final\n",
    "where (total_gmv/total_orders) >300\n",
    "and total_orders >1\n",
    "group by 1),\n",
    "\n",
    "dev as (\n",
    "    Select \n",
    "        advertising_id,\n",
    "        device_uuid \n",
    "    from spectrum.mobile_event_data where name in ('Cart Viewed') and at_date_ist >=current_date-360\n",
    " group by 1,2)\n",
    " \n",
    "Select advertising_id as mobile_device_id from (\n",
    "Select dev.advertising_id,\n",
    "        case when RMNGC.dim_customer_key %% 41 < 4 then 'CG' else 'TG' end as cohort \n",
    "        from RMNGC inner join dev on RMNGC.device_id=dev.device_uuid\n",
    "        inner join final on RMNGC.dim_customer_key=final.dim_customer_key\n",
    "        \n",
    "         ) \n",
    "         where advertising_id is not null\n",
    "          and cohort='TG';\n",
    "\n",
    "\"\"\""
   ]
  },
  {
   "cell_type": "code",
   "execution_count": 25,
   "id": "25fa864e-9762-4c11-8ba5-4e9a9d79d49f",
   "metadata": {},
   "outputs": [
    {
     "data": {
      "text/html": [
       "<div>\n",
       "<style scoped>\n",
       "    .dataframe tbody tr th:only-of-type {\n",
       "        vertical-align: middle;\n",
       "    }\n",
       "\n",
       "    .dataframe tbody tr th {\n",
       "        vertical-align: top;\n",
       "    }\n",
       "\n",
       "    .dataframe thead th {\n",
       "        text-align: right;\n",
       "    }\n",
       "</style>\n",
       "<table border=\"1\" class=\"dataframe\">\n",
       "  <thead>\n",
       "    <tr style=\"text-align: right;\">\n",
       "      <th></th>\n",
       "      <th>Mobile Device ID</th>\n",
       "    </tr>\n",
       "  </thead>\n",
       "  <tbody>\n",
       "    <tr>\n",
       "      <th>0</th>\n",
       "      <td>228c52c1-3861-421a-9c9a-b35aeff90659</td>\n",
       "    </tr>\n",
       "    <tr>\n",
       "      <th>1</th>\n",
       "      <td>5c1a991f-c130-4bf6-ba72-29ce775faa8e</td>\n",
       "    </tr>\n",
       "    <tr>\n",
       "      <th>2</th>\n",
       "      <td>cca9a9da-ff3a-4094-93f5-31a96705de39</td>\n",
       "    </tr>\n",
       "    <tr>\n",
       "      <th>3</th>\n",
       "      <td>44651240-82ae-41b4-b826-c2c607bf73d3</td>\n",
       "    </tr>\n",
       "    <tr>\n",
       "      <th>4</th>\n",
       "      <td>97674789-8414-4b23-9676-a1acf330ed04</td>\n",
       "    </tr>\n",
       "  </tbody>\n",
       "</table>\n",
       "</div>"
      ],
      "text/plain": [
       "                       Mobile Device ID\n",
       "0  228c52c1-3861-421a-9c9a-b35aeff90659\n",
       "1  5c1a991f-c130-4bf6-ba72-29ce775faa8e\n",
       "2  cca9a9da-ff3a-4094-93f5-31a96705de39\n",
       "3  44651240-82ae-41b4-b826-c2c607bf73d3\n",
       "4  97674789-8414-4b23-9676-a1acf330ed04"
      ]
     },
     "execution_count": 25,
     "metadata": {},
     "output_type": "execute_result"
    }
   ],
   "source": [
    "df = pd.read_sql(sql=sql, con=con_rs)\n",
    "df.rename(columns = {'mobile_device_id':'Mobile Device ID'}, inplace = True)\n",
    "df.head()"
   ]
  },
  {
   "cell_type": "code",
   "execution_count": 26,
   "id": "08e52c8e-a0a2-4eeb-abe5-f0b036591e65",
   "metadata": {},
   "outputs": [
    {
     "data": {
      "text/plain": [
       "(414726, 1)"
      ]
     },
     "execution_count": 26,
     "metadata": {},
     "output_type": "execute_result"
    }
   ],
   "source": [
    "df.shape"
   ]
  },
  {
   "cell_type": "code",
   "execution_count": 27,
   "id": "7389a5de-97a5-4ac0-ad8d-c50ac97c089a",
   "metadata": {},
   "outputs": [],
   "source": [
    "df.to_csv('Repeat60-GC-NU-AOV300_LTO2.csv',index=False)"
   ]
  },
  {
   "cell_type": "code",
   "execution_count": null,
   "id": "baeb4662-e90b-42c2-bbc4-125b1e9cf2ca",
   "metadata": {},
   "outputs": [],
   "source": []
  }
 ],
 "metadata": {
  "kernelspec": {
   "display_name": "Python 3 (ipykernel)",
   "language": "python",
   "name": "python3"
  },
  "language_info": {
   "codemirror_mode": {
    "name": "ipython",
    "version": 3
   },
   "file_extension": ".py",
   "mimetype": "text/x-python",
   "name": "python",
   "nbconvert_exporter": "python",
   "pygments_lexer": "ipython3",
   "version": "3.9.7"
  }
 },
 "nbformat": 4,
 "nbformat_minor": 5
}
